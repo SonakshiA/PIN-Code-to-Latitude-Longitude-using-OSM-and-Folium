{
  "nbformat": 4,
  "nbformat_minor": 0,
  "metadata": {
    "colab": {
      "provenance": [],
      "authorship_tag": "ABX9TyO0U/8fa41pQPYZAKP1A503",
      "include_colab_link": true
    },
    "kernelspec": {
      "name": "python3",
      "display_name": "Python 3"
    },
    "language_info": {
      "name": "python"
    }
  },
  "cells": [
    {
      "cell_type": "markdown",
      "metadata": {
        "id": "view-in-github",
        "colab_type": "text"
      },
      "source": [
        "<a href=\"https://colab.research.google.com/github/SonakshiA/PIN-Code-to-Latitude-Longitude-using-OSM-and-Folium/blob/main/Postcode_to_Latitude_Longitude_using_OSM_and_Folium.ipynb\" target=\"_parent\"><img src=\"https://colab.research.google.com/assets/colab-badge.svg\" alt=\"Open In Colab\"/></a>"
      ]
    },
    {
      "cell_type": "markdown",
      "source": [
        "To make HTTP requests, we'll use the requests package"
      ],
      "metadata": {
        "id": "NOJ7MI9C9HLj"
      }
    },
    {
      "cell_type": "code",
      "execution_count": 1,
      "metadata": {
        "id": "PAutLpSW8lJP"
      },
      "outputs": [],
      "source": [
        "import requests\n",
        "from pprint import pprint #pretty printing"
      ]
    },
    {
      "cell_type": "markdown",
      "source": [
        "We use the Nominatim API. We wish to get our responses in JSON format.\n",
        "API Documentation : https://nominatim.org/release-docs/develop/api/"
      ],
      "metadata": {
        "id": "nixg79Rn9cSe"
      }
    },
    {
      "cell_type": "code",
      "source": [
        "BASE_URL = 'https://nominatim.openstreetmap.org/search?format=json'\n",
        "EMAIL = \"sonakshi.arora02@gmail.com\""
      ],
      "metadata": {
        "id": "sz82sVRW9Wvh"
      },
      "execution_count": 28,
      "outputs": []
    },
    {
      "cell_type": "code",
      "source": [
        "pincode = '400703'\n",
        "country = 'india'\n",
        "response = requests.get(f\"{BASE_URL}&email={EMAIL}&postalcode={pincode}&country={country}\")\n",
        "data = response.json()\n",
        "pprint(data)\n",
        "\n",
        "\n"
      ],
      "metadata": {
        "colab": {
          "base_uri": "https://localhost:8080/"
        },
        "id": "uHqvbZzA97sx",
        "outputId": "350df686-e056-4752-9b50-195d898e7526"
      },
      "execution_count": 31,
      "outputs": [
        {
          "output_type": "stream",
          "name": "stdout",
          "text": [
            "[{'addresstype': 'postcode',\n",
            "  'boundingbox': ['18.9167515', '19.2367515', '72.8421984', '73.1621984'],\n",
            "  'class': 'place',\n",
            "  'display_name': '400703, Navi Mumbai, Thane Taluka, Thane, Maharashtra, '\n",
            "                  'India',\n",
            "  'importance': 0.12000999999999995,\n",
            "  'lat': '19.076751515384615',\n",
            "  'licence': 'Data © OpenStreetMap contributors, ODbL 1.0. '\n",
            "             'http://osm.org/copyright',\n",
            "  'lon': '73.00219837307692',\n",
            "  'name': '400703',\n",
            "  'place_id': 330353886,\n",
            "  'place_rank': 21,\n",
            "  'type': 'postcode'}]\n"
          ]
        }
      ]
    },
    {
      "cell_type": "code",
      "source": [
        "latitude = data[0].get('lat')\n",
        "longitude = data[0].get('lon')\n",
        "print(latitude, longitude)\n",
        "\n",
        "bbox = data[0].get('boundingbox')\n",
        "print(bbox)"
      ],
      "metadata": {
        "colab": {
          "base_uri": "https://localhost:8080/"
        },
        "id": "q6WXj3KeEARD",
        "outputId": "cabc1224-fa33-43e7-9d48-c907b8cb0026"
      },
      "execution_count": 32,
      "outputs": [
        {
          "output_type": "stream",
          "name": "stdout",
          "text": [
            "19.076751515384615 73.00219837307692\n",
            "['18.9167515', '19.2367515', '72.8421984', '73.1621984']\n"
          ]
        }
      ]
    },
    {
      "cell_type": "code",
      "source": [
        "pincode = '303007'\n",
        "country = 'india'\n",
        "response = requests.get(f\"{BASE_URL}&email={EMAIL}&postalcode={pincode}&country={country}\")\n",
        "data = response.json()\n",
        "pprint(data)\n",
        "\n",
        "\n"
      ],
      "metadata": {
        "colab": {
          "base_uri": "https://localhost:8080/"
        },
        "id": "08dmbtyxLFWG",
        "outputId": "4225172c-7ee8-4cfa-c9c0-0a4eb802f110"
      },
      "execution_count": 34,
      "outputs": [
        {
          "output_type": "stream",
          "name": "stdout",
          "text": [
            "[{'addresstype': 'postcode',\n",
            "  'boundingbox': ['26.6718785', '26.9918785', '75.4113491', '75.7313491'],\n",
            "  'class': 'place',\n",
            "  'display_name': '303007, Sanganer Tehsil, Jaipur District, Rajasthan, India',\n",
            "  'importance': 0.12000999999999995,\n",
            "  'lat': '26.831878505555554',\n",
            "  'licence': 'Data © OpenStreetMap contributors, ODbL 1.0. '\n",
            "             'http://osm.org/copyright',\n",
            "  'lon': '75.57134912777778',\n",
            "  'name': '303007',\n",
            "  'place_id': 330351854,\n",
            "  'place_rank': 21,\n",
            "  'type': 'postcode'}]\n"
          ]
        }
      ]
    },
    {
      "cell_type": "code",
      "source": [
        "latitude2 = data[0].get('lat')\n",
        "longitude2 = data[0].get('lon')\n",
        "print(latitude2, longitude2)\n",
        "\n",
        "bbox2 = data[0].get('boundingbox')\n",
        "print(bbox2)"
      ],
      "metadata": {
        "colab": {
          "base_uri": "https://localhost:8080/"
        },
        "id": "gQIXVMhALbxG",
        "outputId": "92f1ff52-aa4a-43bb-99cd-a37b1e309f49"
      },
      "execution_count": 35,
      "outputs": [
        {
          "output_type": "stream",
          "name": "stdout",
          "text": [
            "26.831878505555554 75.57134912777778\n",
            "['26.6718785', '26.9918785', '75.4113491', '75.7313491']\n"
          ]
        }
      ]
    },
    {
      "cell_type": "markdown",
      "source": [
        "Mapping the Points using Folium"
      ],
      "metadata": {
        "id": "cJtzRO4CRk0u"
      }
    },
    {
      "cell_type": "code",
      "source": [
        "import folium"
      ],
      "metadata": {
        "id": "4iFYS_OnRZ6O"
      },
      "execution_count": 37,
      "outputs": []
    },
    {
      "cell_type": "code",
      "source": [
        "location = float(latitude), float(longitude)\n",
        "location2 = float(latitude2), float(longitude2)\n",
        "\n",
        "m = folium.Map(location=location,width=800,height=400)\n",
        "\n",
        "#Add markers for Navi Mumbai and Jaipur\n",
        "folium.Marker(location, popup=\"Navi Mumbai\").add_to(m)\n",
        "folium.Marker(location2, popup=\"Jaipur\").add_to(m)\n",
        "\n",
        "#Plot a line between the points\n",
        "folium.PolyLine((location,location2)).add_to(m)\n",
        "m"
      ],
      "metadata": {
        "colab": {
          "base_uri": "https://localhost:8080/",
          "height": 622
        },
        "id": "G-0Pr3WgRm7q",
        "outputId": "1e48d544-e531-44ff-da80-9445daae68ee"
      },
      "execution_count": 47,
      "outputs": [
        {
          "output_type": "execute_result",
          "data": {
            "text/plain": [
              "<folium.folium.Map at 0x79a2af94ffd0>"
            ],
            "text/html": [
              "<div style=\"width:100%;\"><div style=\"position:relative;width:100%;height:0;padding-bottom:60%;\"><span style=\"color:#565656\">Make this Notebook Trusted to load map: File -> Trust Notebook</span><iframe srcdoc=\"&lt;!DOCTYPE html&gt;\n",
              "&lt;html&gt;\n",
              "&lt;head&gt;\n",
              "    \n",
              "    &lt;meta http-equiv=&quot;content-type&quot; content=&quot;text/html; charset=UTF-8&quot; /&gt;\n",
              "    \n",
              "        &lt;script&gt;\n",
              "            L_NO_TOUCH = false;\n",
              "            L_DISABLE_3D = false;\n",
              "        &lt;/script&gt;\n",
              "    \n",
              "    &lt;style&gt;html, body {width: 100%;height: 100%;margin: 0;padding: 0;}&lt;/style&gt;\n",
              "    &lt;style&gt;#map {position:absolute;top:0;bottom:0;right:0;left:0;}&lt;/style&gt;\n",
              "    &lt;script src=&quot;https://cdn.jsdelivr.net/npm/leaflet@1.9.3/dist/leaflet.js&quot;&gt;&lt;/script&gt;\n",
              "    &lt;script src=&quot;https://code.jquery.com/jquery-1.12.4.min.js&quot;&gt;&lt;/script&gt;\n",
              "    &lt;script src=&quot;https://cdn.jsdelivr.net/npm/bootstrap@5.2.2/dist/js/bootstrap.bundle.min.js&quot;&gt;&lt;/script&gt;\n",
              "    &lt;script src=&quot;https://cdnjs.cloudflare.com/ajax/libs/Leaflet.awesome-markers/2.0.2/leaflet.awesome-markers.js&quot;&gt;&lt;/script&gt;\n",
              "    &lt;link rel=&quot;stylesheet&quot; href=&quot;https://cdn.jsdelivr.net/npm/leaflet@1.9.3/dist/leaflet.css&quot;/&gt;\n",
              "    &lt;link rel=&quot;stylesheet&quot; href=&quot;https://cdn.jsdelivr.net/npm/bootstrap@5.2.2/dist/css/bootstrap.min.css&quot;/&gt;\n",
              "    &lt;link rel=&quot;stylesheet&quot; href=&quot;https://netdna.bootstrapcdn.com/bootstrap/3.0.0/css/bootstrap.min.css&quot;/&gt;\n",
              "    &lt;link rel=&quot;stylesheet&quot; href=&quot;https://cdn.jsdelivr.net/npm/@fortawesome/fontawesome-free@6.2.0/css/all.min.css&quot;/&gt;\n",
              "    &lt;link rel=&quot;stylesheet&quot; href=&quot;https://cdnjs.cloudflare.com/ajax/libs/Leaflet.awesome-markers/2.0.2/leaflet.awesome-markers.css&quot;/&gt;\n",
              "    &lt;link rel=&quot;stylesheet&quot; href=&quot;https://cdn.jsdelivr.net/gh/python-visualization/folium/folium/templates/leaflet.awesome.rotate.min.css&quot;/&gt;\n",
              "    \n",
              "            &lt;meta name=&quot;viewport&quot; content=&quot;width=device-width,\n",
              "                initial-scale=1.0, maximum-scale=1.0, user-scalable=no&quot; /&gt;\n",
              "            &lt;style&gt;\n",
              "                #map_85f1b91cce5110e634e18bee25853636 {\n",
              "                    position: relative;\n",
              "                    width: 800.0px;\n",
              "                    height: 400.0px;\n",
              "                    left: 0.0%;\n",
              "                    top: 0.0%;\n",
              "                }\n",
              "                .leaflet-container { font-size: 1rem; }\n",
              "            &lt;/style&gt;\n",
              "        \n",
              "&lt;/head&gt;\n",
              "&lt;body&gt;\n",
              "    \n",
              "    \n",
              "            &lt;div class=&quot;folium-map&quot; id=&quot;map_85f1b91cce5110e634e18bee25853636&quot; &gt;&lt;/div&gt;\n",
              "        \n",
              "&lt;/body&gt;\n",
              "&lt;script&gt;\n",
              "    \n",
              "    \n",
              "            var map_85f1b91cce5110e634e18bee25853636 = L.map(\n",
              "                &quot;map_85f1b91cce5110e634e18bee25853636&quot;,\n",
              "                {\n",
              "                    center: [19.076751515384615, 73.00219837307692],\n",
              "                    crs: L.CRS.EPSG3857,\n",
              "                    zoom: 10,\n",
              "                    zoomControl: true,\n",
              "                    preferCanvas: false,\n",
              "                }\n",
              "            );\n",
              "\n",
              "            \n",
              "\n",
              "        \n",
              "    \n",
              "            var tile_layer_42c7bcd214fae4f96869df3a98269589 = L.tileLayer(\n",
              "                &quot;https://{s}.tile.openstreetmap.org/{z}/{x}/{y}.png&quot;,\n",
              "                {&quot;attribution&quot;: &quot;Data by \\u0026copy; \\u003ca target=\\&quot;_blank\\&quot; href=\\&quot;http://openstreetmap.org\\&quot;\\u003eOpenStreetMap\\u003c/a\\u003e, under \\u003ca target=\\&quot;_blank\\&quot; href=\\&quot;http://www.openstreetmap.org/copyright\\&quot;\\u003eODbL\\u003c/a\\u003e.&quot;, &quot;detectRetina&quot;: false, &quot;maxNativeZoom&quot;: 18, &quot;maxZoom&quot;: 18, &quot;minZoom&quot;: 0, &quot;noWrap&quot;: false, &quot;opacity&quot;: 1, &quot;subdomains&quot;: &quot;abc&quot;, &quot;tms&quot;: false}\n",
              "            ).addTo(map_85f1b91cce5110e634e18bee25853636);\n",
              "        \n",
              "    \n",
              "            var marker_175621a81e996c70a8b60750990cb906 = L.marker(\n",
              "                [19.076751515384615, 73.00219837307692],\n",
              "                {}\n",
              "            ).addTo(map_85f1b91cce5110e634e18bee25853636);\n",
              "        \n",
              "    \n",
              "        var popup_49fed0a8b96e9aee7ca412fd392f5bcd = L.popup({&quot;maxWidth&quot;: &quot;100%&quot;});\n",
              "\n",
              "        \n",
              "            \n",
              "                var html_f4642556aaf3d277fb5a4284737b5697 = $(`&lt;div id=&quot;html_f4642556aaf3d277fb5a4284737b5697&quot; style=&quot;width: 100.0%; height: 100.0%;&quot;&gt;Navi Mumbai&lt;/div&gt;`)[0];\n",
              "                popup_49fed0a8b96e9aee7ca412fd392f5bcd.setContent(html_f4642556aaf3d277fb5a4284737b5697);\n",
              "            \n",
              "        \n",
              "\n",
              "        marker_175621a81e996c70a8b60750990cb906.bindPopup(popup_49fed0a8b96e9aee7ca412fd392f5bcd)\n",
              "        ;\n",
              "\n",
              "        \n",
              "    \n",
              "    \n",
              "            var marker_18bd0ad5b1229da92353c098c34feb08 = L.marker(\n",
              "                [26.831878505555554, 75.57134912777778],\n",
              "                {}\n",
              "            ).addTo(map_85f1b91cce5110e634e18bee25853636);\n",
              "        \n",
              "    \n",
              "        var popup_27b6ba5876c007cff50dcfeb2dcdd8fb = L.popup({&quot;maxWidth&quot;: &quot;100%&quot;});\n",
              "\n",
              "        \n",
              "            \n",
              "                var html_2e2bb7ae815c06db9b078f6d8681f5dd = $(`&lt;div id=&quot;html_2e2bb7ae815c06db9b078f6d8681f5dd&quot; style=&quot;width: 100.0%; height: 100.0%;&quot;&gt;Jaipur&lt;/div&gt;`)[0];\n",
              "                popup_27b6ba5876c007cff50dcfeb2dcdd8fb.setContent(html_2e2bb7ae815c06db9b078f6d8681f5dd);\n",
              "            \n",
              "        \n",
              "\n",
              "        marker_18bd0ad5b1229da92353c098c34feb08.bindPopup(popup_27b6ba5876c007cff50dcfeb2dcdd8fb)\n",
              "        ;\n",
              "\n",
              "        \n",
              "    \n",
              "    \n",
              "            var poly_line_5dd0964454b5b40a3771e6685e50830a = L.polyline(\n",
              "                [[19.076751515384615, 73.00219837307692], [26.831878505555554, 75.57134912777778]],\n",
              "                {&quot;bubblingMouseEvents&quot;: true, &quot;color&quot;: &quot;#3388ff&quot;, &quot;dashArray&quot;: null, &quot;dashOffset&quot;: null, &quot;fill&quot;: false, &quot;fillColor&quot;: &quot;#3388ff&quot;, &quot;fillOpacity&quot;: 0.2, &quot;fillRule&quot;: &quot;evenodd&quot;, &quot;lineCap&quot;: &quot;round&quot;, &quot;lineJoin&quot;: &quot;round&quot;, &quot;noClip&quot;: false, &quot;opacity&quot;: 1.0, &quot;smoothFactor&quot;: 1.0, &quot;stroke&quot;: true, &quot;weight&quot;: 3}\n",
              "            ).addTo(map_85f1b91cce5110e634e18bee25853636);\n",
              "        \n",
              "&lt;/script&gt;\n",
              "&lt;/html&gt;\" style=\"position:absolute;width:100%;height:100%;left:0;top:0;border:none !important;\" allowfullscreen webkitallowfullscreen mozallowfullscreen></iframe></div></div>"
            ]
          },
          "metadata": {},
          "execution_count": 47
        }
      ]
    },
    {
      "cell_type": "code",
      "source": [
        "# generator expression to compute midpoint of the two locations\n",
        "# this works because both locations are of form: (lat, long)\n",
        "# zipping them together allows us to iterate over both lats at once,\n",
        "# and then both lons at once\n",
        "midpoint_gen = ((x+y)/2 for x,y in zip(location, location2))\n",
        "\n",
        "# convert generator to a tuple representing lat/longitude of the midpoint\n",
        "midpoint = tuple(midpoint_gen)\n",
        "\n",
        "print(location)\n",
        "print(location2)\n",
        "print(midpoint)"
      ],
      "metadata": {
        "colab": {
          "base_uri": "https://localhost:8080/"
        },
        "id": "4ZfjKwwFVE6c",
        "outputId": "0749f0e1-d080-4483-e6cc-500f51ff4786"
      },
      "execution_count": 48,
      "outputs": [
        {
          "output_type": "stream",
          "name": "stdout",
          "text": [
            "(19.076751515384615, 73.00219837307692)\n",
            "(26.831878505555554, 75.57134912777778)\n",
            "(22.954315010470083, 74.28677375042736)\n"
          ]
        }
      ]
    },
    {
      "cell_type": "code",
      "source": [
        "location = float(latitude), float(longitude)\n",
        "location2 = float(latitude2), float(longitude2)\n",
        "\n",
        "m = folium.Map(location=location,width=800,height=400)\n",
        "\n",
        "#Add markers for Navi Mumbai and Jaipur\n",
        "folium.Marker(location, popup=\"Navi Mumbai\").add_to(m)\n",
        "folium.Marker(location2, popup=\"Jaipur\").add_to(m)\n",
        "folium.Marker(midpoint,popup=\"Midpoint\").add_to(m)\n",
        "\n",
        "#Plot a line between the points\n",
        "folium.PolyLine((location,location2)).add_to(m)\n",
        "\n",
        "m"
      ],
      "metadata": {
        "colab": {
          "base_uri": "https://localhost:8080/",
          "height": 622
        },
        "id": "PQ02YBCNVHmy",
        "outputId": "1c96a98e-47dc-4e2c-c601-af19206d461e"
      },
      "execution_count": 49,
      "outputs": [
        {
          "output_type": "execute_result",
          "data": {
            "text/plain": [
              "<folium.folium.Map at 0x79a2af94c100>"
            ],
            "text/html": [
              "<div style=\"width:100%;\"><div style=\"position:relative;width:100%;height:0;padding-bottom:60%;\"><span style=\"color:#565656\">Make this Notebook Trusted to load map: File -> Trust Notebook</span><iframe srcdoc=\"&lt;!DOCTYPE html&gt;\n",
              "&lt;html&gt;\n",
              "&lt;head&gt;\n",
              "    \n",
              "    &lt;meta http-equiv=&quot;content-type&quot; content=&quot;text/html; charset=UTF-8&quot; /&gt;\n",
              "    \n",
              "        &lt;script&gt;\n",
              "            L_NO_TOUCH = false;\n",
              "            L_DISABLE_3D = false;\n",
              "        &lt;/script&gt;\n",
              "    \n",
              "    &lt;style&gt;html, body {width: 100%;height: 100%;margin: 0;padding: 0;}&lt;/style&gt;\n",
              "    &lt;style&gt;#map {position:absolute;top:0;bottom:0;right:0;left:0;}&lt;/style&gt;\n",
              "    &lt;script src=&quot;https://cdn.jsdelivr.net/npm/leaflet@1.9.3/dist/leaflet.js&quot;&gt;&lt;/script&gt;\n",
              "    &lt;script src=&quot;https://code.jquery.com/jquery-1.12.4.min.js&quot;&gt;&lt;/script&gt;\n",
              "    &lt;script src=&quot;https://cdn.jsdelivr.net/npm/bootstrap@5.2.2/dist/js/bootstrap.bundle.min.js&quot;&gt;&lt;/script&gt;\n",
              "    &lt;script src=&quot;https://cdnjs.cloudflare.com/ajax/libs/Leaflet.awesome-markers/2.0.2/leaflet.awesome-markers.js&quot;&gt;&lt;/script&gt;\n",
              "    &lt;link rel=&quot;stylesheet&quot; href=&quot;https://cdn.jsdelivr.net/npm/leaflet@1.9.3/dist/leaflet.css&quot;/&gt;\n",
              "    &lt;link rel=&quot;stylesheet&quot; href=&quot;https://cdn.jsdelivr.net/npm/bootstrap@5.2.2/dist/css/bootstrap.min.css&quot;/&gt;\n",
              "    &lt;link rel=&quot;stylesheet&quot; href=&quot;https://netdna.bootstrapcdn.com/bootstrap/3.0.0/css/bootstrap.min.css&quot;/&gt;\n",
              "    &lt;link rel=&quot;stylesheet&quot; href=&quot;https://cdn.jsdelivr.net/npm/@fortawesome/fontawesome-free@6.2.0/css/all.min.css&quot;/&gt;\n",
              "    &lt;link rel=&quot;stylesheet&quot; href=&quot;https://cdnjs.cloudflare.com/ajax/libs/Leaflet.awesome-markers/2.0.2/leaflet.awesome-markers.css&quot;/&gt;\n",
              "    &lt;link rel=&quot;stylesheet&quot; href=&quot;https://cdn.jsdelivr.net/gh/python-visualization/folium/folium/templates/leaflet.awesome.rotate.min.css&quot;/&gt;\n",
              "    \n",
              "            &lt;meta name=&quot;viewport&quot; content=&quot;width=device-width,\n",
              "                initial-scale=1.0, maximum-scale=1.0, user-scalable=no&quot; /&gt;\n",
              "            &lt;style&gt;\n",
              "                #map_8d7abd6fb815c457dce9b2df766b34eb {\n",
              "                    position: relative;\n",
              "                    width: 800.0px;\n",
              "                    height: 400.0px;\n",
              "                    left: 0.0%;\n",
              "                    top: 0.0%;\n",
              "                }\n",
              "                .leaflet-container { font-size: 1rem; }\n",
              "            &lt;/style&gt;\n",
              "        \n",
              "&lt;/head&gt;\n",
              "&lt;body&gt;\n",
              "    \n",
              "    \n",
              "            &lt;div class=&quot;folium-map&quot; id=&quot;map_8d7abd6fb815c457dce9b2df766b34eb&quot; &gt;&lt;/div&gt;\n",
              "        \n",
              "&lt;/body&gt;\n",
              "&lt;script&gt;\n",
              "    \n",
              "    \n",
              "            var map_8d7abd6fb815c457dce9b2df766b34eb = L.map(\n",
              "                &quot;map_8d7abd6fb815c457dce9b2df766b34eb&quot;,\n",
              "                {\n",
              "                    center: [19.076751515384615, 73.00219837307692],\n",
              "                    crs: L.CRS.EPSG3857,\n",
              "                    zoom: 10,\n",
              "                    zoomControl: true,\n",
              "                    preferCanvas: false,\n",
              "                }\n",
              "            );\n",
              "\n",
              "            \n",
              "\n",
              "        \n",
              "    \n",
              "            var tile_layer_5602984fb4521c01b9e9a27e0644b744 = L.tileLayer(\n",
              "                &quot;https://{s}.tile.openstreetmap.org/{z}/{x}/{y}.png&quot;,\n",
              "                {&quot;attribution&quot;: &quot;Data by \\u0026copy; \\u003ca target=\\&quot;_blank\\&quot; href=\\&quot;http://openstreetmap.org\\&quot;\\u003eOpenStreetMap\\u003c/a\\u003e, under \\u003ca target=\\&quot;_blank\\&quot; href=\\&quot;http://www.openstreetmap.org/copyright\\&quot;\\u003eODbL\\u003c/a\\u003e.&quot;, &quot;detectRetina&quot;: false, &quot;maxNativeZoom&quot;: 18, &quot;maxZoom&quot;: 18, &quot;minZoom&quot;: 0, &quot;noWrap&quot;: false, &quot;opacity&quot;: 1, &quot;subdomains&quot;: &quot;abc&quot;, &quot;tms&quot;: false}\n",
              "            ).addTo(map_8d7abd6fb815c457dce9b2df766b34eb);\n",
              "        \n",
              "    \n",
              "            var marker_af819079939c7c5cbeff41727cd6edf7 = L.marker(\n",
              "                [19.076751515384615, 73.00219837307692],\n",
              "                {}\n",
              "            ).addTo(map_8d7abd6fb815c457dce9b2df766b34eb);\n",
              "        \n",
              "    \n",
              "        var popup_8154cd85c5e44e16e5bf0d991f8ccb74 = L.popup({&quot;maxWidth&quot;: &quot;100%&quot;});\n",
              "\n",
              "        \n",
              "            \n",
              "                var html_76813612f40320238bffb4a472c510ae = $(`&lt;div id=&quot;html_76813612f40320238bffb4a472c510ae&quot; style=&quot;width: 100.0%; height: 100.0%;&quot;&gt;Navi Mumbai&lt;/div&gt;`)[0];\n",
              "                popup_8154cd85c5e44e16e5bf0d991f8ccb74.setContent(html_76813612f40320238bffb4a472c510ae);\n",
              "            \n",
              "        \n",
              "\n",
              "        marker_af819079939c7c5cbeff41727cd6edf7.bindPopup(popup_8154cd85c5e44e16e5bf0d991f8ccb74)\n",
              "        ;\n",
              "\n",
              "        \n",
              "    \n",
              "    \n",
              "            var marker_f4eb7baa798bf1f87bf90866fe930707 = L.marker(\n",
              "                [26.831878505555554, 75.57134912777778],\n",
              "                {}\n",
              "            ).addTo(map_8d7abd6fb815c457dce9b2df766b34eb);\n",
              "        \n",
              "    \n",
              "        var popup_5bb758a04f982a2f997984ab001d8bb5 = L.popup({&quot;maxWidth&quot;: &quot;100%&quot;});\n",
              "\n",
              "        \n",
              "            \n",
              "                var html_7ca0390880305c31928da28078a76e87 = $(`&lt;div id=&quot;html_7ca0390880305c31928da28078a76e87&quot; style=&quot;width: 100.0%; height: 100.0%;&quot;&gt;Jaipur&lt;/div&gt;`)[0];\n",
              "                popup_5bb758a04f982a2f997984ab001d8bb5.setContent(html_7ca0390880305c31928da28078a76e87);\n",
              "            \n",
              "        \n",
              "\n",
              "        marker_f4eb7baa798bf1f87bf90866fe930707.bindPopup(popup_5bb758a04f982a2f997984ab001d8bb5)\n",
              "        ;\n",
              "\n",
              "        \n",
              "    \n",
              "    \n",
              "            var marker_938e4943ea518e81e603360b6cc65585 = L.marker(\n",
              "                [22.954315010470083, 74.28677375042736],\n",
              "                {}\n",
              "            ).addTo(map_8d7abd6fb815c457dce9b2df766b34eb);\n",
              "        \n",
              "    \n",
              "        var popup_6be6f7f7e050d0a534537fec3cd12d4b = L.popup({&quot;maxWidth&quot;: &quot;100%&quot;});\n",
              "\n",
              "        \n",
              "            \n",
              "                var html_cf18e412fe17c959dad09efebf1a8516 = $(`&lt;div id=&quot;html_cf18e412fe17c959dad09efebf1a8516&quot; style=&quot;width: 100.0%; height: 100.0%;&quot;&gt;Midpoint&lt;/div&gt;`)[0];\n",
              "                popup_6be6f7f7e050d0a534537fec3cd12d4b.setContent(html_cf18e412fe17c959dad09efebf1a8516);\n",
              "            \n",
              "        \n",
              "\n",
              "        marker_938e4943ea518e81e603360b6cc65585.bindPopup(popup_6be6f7f7e050d0a534537fec3cd12d4b)\n",
              "        ;\n",
              "\n",
              "        \n",
              "    \n",
              "    \n",
              "            var poly_line_e4b3aed1b9fc6db36fdd0cc411f2dcaa = L.polyline(\n",
              "                [[19.076751515384615, 73.00219837307692], [26.831878505555554, 75.57134912777778]],\n",
              "                {&quot;bubblingMouseEvents&quot;: true, &quot;color&quot;: &quot;#3388ff&quot;, &quot;dashArray&quot;: null, &quot;dashOffset&quot;: null, &quot;fill&quot;: false, &quot;fillColor&quot;: &quot;#3388ff&quot;, &quot;fillOpacity&quot;: 0.2, &quot;fillRule&quot;: &quot;evenodd&quot;, &quot;lineCap&quot;: &quot;round&quot;, &quot;lineJoin&quot;: &quot;round&quot;, &quot;noClip&quot;: false, &quot;opacity&quot;: 1.0, &quot;smoothFactor&quot;: 1.0, &quot;stroke&quot;: true, &quot;weight&quot;: 3}\n",
              "            ).addTo(map_8d7abd6fb815c457dce9b2df766b34eb);\n",
              "        \n",
              "&lt;/script&gt;\n",
              "&lt;/html&gt;\" style=\"position:absolute;width:100%;height:100%;left:0;top:0;border:none !important;\" allowfullscreen webkitallowfullscreen mozallowfullscreen></iframe></div></div>"
            ]
          },
          "metadata": {},
          "execution_count": 49
        }
      ]
    },
    {
      "cell_type": "markdown",
      "source": [
        "Finding Distances between Points using geopy"
      ],
      "metadata": {
        "id": "oV3m0VZuS_Dh"
      }
    },
    {
      "cell_type": "code",
      "source": [
        "from geopy.distance import distance"
      ],
      "metadata": {
        "id": "nrx0pt0mTCfx"
      },
      "execution_count": 45,
      "outputs": []
    },
    {
      "cell_type": "code",
      "source": [
        "km = distance(location,location2)\n",
        "print(km)"
      ],
      "metadata": {
        "colab": {
          "base_uri": "https://localhost:8080/"
        },
        "id": "VaMKwwAvTH4E",
        "outputId": "3fb7dd8e-b3bd-45ee-820a-e9c490a41563"
      },
      "execution_count": 46,
      "outputs": [
        {
          "output_type": "stream",
          "name": "stdout",
          "text": [
            "898.2551507441955 km\n"
          ]
        }
      ]
    }
  ]
}